{
 "cells": [
  {
   "cell_type": "code",
   "execution_count": 1,
   "metadata": {},
   "outputs": [],
   "source": [
    "import requests\n",
    "import json\n",
    "import numpy as np\n",
    "import pandas as pd\n",
    "from pandas import DataFrame as df"
   ]
  },
  {
   "cell_type": "code",
   "execution_count": 2,
   "metadata": {},
   "outputs": [
    {
     "data": {
      "text/html": [
       "<div>\n",
       "<style scoped>\n",
       "    .dataframe tbody tr th:only-of-type {\n",
       "        vertical-align: middle;\n",
       "    }\n",
       "\n",
       "    .dataframe tbody tr th {\n",
       "        vertical-align: top;\n",
       "    }\n",
       "\n",
       "    .dataframe thead th {\n",
       "        text-align: right;\n",
       "    }\n",
       "</style>\n",
       "<table border=\"1\" class=\"dataframe\">\n",
       "  <thead>\n",
       "    <tr style=\"text-align: right;\">\n",
       "      <th></th>\n",
       "      <th>state_code</th>\n",
       "      <th>state_name</th>\n",
       "      <th>county_code</th>\n",
       "      <th>county_name</th>\n",
       "      <th>KEY</th>\n",
       "      <th>FIPS</th>\n",
       "    </tr>\n",
       "  </thead>\n",
       "  <tbody>\n",
       "    <tr>\n",
       "      <th>0</th>\n",
       "      <td>6</td>\n",
       "      <td>CA</td>\n",
       "      <td>37</td>\n",
       "      <td>LOS ANGELES</td>\n",
       "      <td>CA LOS ANGELES</td>\n",
       "      <td>6037</td>\n",
       "    </tr>\n",
       "    <tr>\n",
       "      <th>1</th>\n",
       "      <td>6</td>\n",
       "      <td>CA</td>\n",
       "      <td>53</td>\n",
       "      <td>MONTEREY</td>\n",
       "      <td>CA MONTEREY</td>\n",
       "      <td>6053</td>\n",
       "    </tr>\n",
       "    <tr>\n",
       "      <th>2</th>\n",
       "      <td>6</td>\n",
       "      <td>CA</td>\n",
       "      <td>71</td>\n",
       "      <td>SAN BERNARDINO</td>\n",
       "      <td>CA SAN BERNARDINO</td>\n",
       "      <td>6071</td>\n",
       "    </tr>\n",
       "  </tbody>\n",
       "</table>\n",
       "</div>"
      ],
      "text/plain": [
       "   state_code state_name  county_code     county_name                KEY  FIPS\n",
       "0           6         CA           37     LOS ANGELES     CA LOS ANGELES  6037\n",
       "1           6         CA           53        MONTEREY        CA MONTEREY  6053\n",
       "2           6         CA           71  SAN BERNARDINO  CA SAN BERNARDINO  6071"
      ]
     },
     "execution_count": 2,
     "metadata": {},
     "output_type": "execute_result"
    }
   ],
   "source": [
    "fips_code = pd.read_csv(\"unique_county.csv\")\n",
    "fips_code.head(3)"
   ]
  },
  {
   "cell_type": "code",
   "execution_count": 3,
   "metadata": {},
   "outputs": [
    {
     "data": {
      "text/html": [
       "<div>\n",
       "<style scoped>\n",
       "    .dataframe tbody tr th:only-of-type {\n",
       "        vertical-align: middle;\n",
       "    }\n",
       "\n",
       "    .dataframe tbody tr th {\n",
       "        vertical-align: top;\n",
       "    }\n",
       "\n",
       "    .dataframe thead th {\n",
       "        text-align: right;\n",
       "    }\n",
       "</style>\n",
       "<table border=\"1\" class=\"dataframe\">\n",
       "  <thead>\n",
       "    <tr style=\"text-align: right;\">\n",
       "      <th></th>\n",
       "      <th>state_code</th>\n",
       "      <th>state_name</th>\n",
       "      <th>county_code</th>\n",
       "      <th>county_name</th>\n",
       "      <th>KEY</th>\n",
       "      <th>FIPS</th>\n",
       "      <th>series_ID</th>\n",
       "    </tr>\n",
       "  </thead>\n",
       "  <tbody>\n",
       "    <tr>\n",
       "      <th>0</th>\n",
       "      <td>6</td>\n",
       "      <td>CA</td>\n",
       "      <td>37</td>\n",
       "      <td>LOS ANGELES</td>\n",
       "      <td>CA LOS ANGELES</td>\n",
       "      <td>6037</td>\n",
       "      <td>LAUCN060370000000003</td>\n",
       "    </tr>\n",
       "    <tr>\n",
       "      <th>1</th>\n",
       "      <td>6</td>\n",
       "      <td>CA</td>\n",
       "      <td>53</td>\n",
       "      <td>MONTEREY</td>\n",
       "      <td>CA MONTEREY</td>\n",
       "      <td>6053</td>\n",
       "      <td>LAUCN060530000000003</td>\n",
       "    </tr>\n",
       "    <tr>\n",
       "      <th>2</th>\n",
       "      <td>6</td>\n",
       "      <td>CA</td>\n",
       "      <td>71</td>\n",
       "      <td>SAN BERNARDINO</td>\n",
       "      <td>CA SAN BERNARDINO</td>\n",
       "      <td>6071</td>\n",
       "      <td>LAUCN060710000000003</td>\n",
       "    </tr>\n",
       "  </tbody>\n",
       "</table>\n",
       "</div>"
      ],
      "text/plain": [
       "   state_code state_name  county_code     county_name                KEY  \\\n",
       "0           6         CA           37     LOS ANGELES     CA LOS ANGELES   \n",
       "1           6         CA           53        MONTEREY        CA MONTEREY   \n",
       "2           6         CA           71  SAN BERNARDINO  CA SAN BERNARDINO   \n",
       "\n",
       "   FIPS             series_ID  \n",
       "0  6037  LAUCN060370000000003  \n",
       "1  6053  LAUCN060530000000003  \n",
       "2  6071  LAUCN060710000000003  "
      ]
     },
     "execution_count": 3,
     "metadata": {},
     "output_type": "execute_result"
    }
   ],
   "source": [
    "fips_code['series_ID'] = 'LAUCN0' + fips_code['FIPS'].astype('str') +'0000000003'\n",
    "#fips_code['series_ID'] = 'LAUCN' + fips_code['FIPS'].astype('str') +'0000000003'\n",
    "\n",
    "total_seriesID = list(fips_code['series_ID'])\n",
    "fips_code.head(3)"
   ]
  },
  {
   "cell_type": "code",
   "execution_count": 4,
   "metadata": {},
   "outputs": [
    {
     "data": {
      "text/plain": [
       "181"
      ]
     },
     "execution_count": 4,
     "metadata": {},
     "output_type": "execute_result"
    }
   ],
   "source": [
    "len(total_seriesID)"
   ]
  },
  {
   "cell_type": "code",
   "execution_count": 5,
   "metadata": {},
   "outputs": [
    {
     "data": {
      "text/html": [
       "<div>\n",
       "<style scoped>\n",
       "    .dataframe tbody tr th:only-of-type {\n",
       "        vertical-align: middle;\n",
       "    }\n",
       "\n",
       "    .dataframe tbody tr th {\n",
       "        vertical-align: top;\n",
       "    }\n",
       "\n",
       "    .dataframe thead th {\n",
       "        text-align: right;\n",
       "    }\n",
       "</style>\n",
       "<table border=\"1\" class=\"dataframe\">\n",
       "  <thead>\n",
       "    <tr style=\"text-align: right;\">\n",
       "      <th></th>\n",
       "      <th>county</th>\n",
       "      <th>year</th>\n",
       "      <th>month</th>\n",
       "      <th>value</th>\n",
       "    </tr>\n",
       "  </thead>\n",
       "  <tbody>\n",
       "  </tbody>\n",
       "</table>\n",
       "</div>"
      ],
      "text/plain": [
       "Empty DataFrame\n",
       "Columns: [county, year, month, value]\n",
       "Index: []"
      ]
     },
     "execution_count": 5,
     "metadata": {},
     "output_type": "execute_result"
    }
   ],
   "source": [
    "#generate fixed master_df\n",
    "master_df = pd.DataFrame(columns = [\"county\", \"year\", \"month\", \"value\"])\n",
    "master_df"
   ]
  },
  {
   "cell_type": "code",
   "execution_count": null,
   "metadata": {},
   "outputs": [],
   "source": [
    "# seriesid에 25개까지 county 함께 담아서 보내면, 한번 보내는게 한번 쿼리보내는 거임 \n",
    "# total_seriesID 적당히 쪼개서 쿼리 제한 안받게 보내면 됨\n",
    "\n",
    "for component in total_seriesID:\n",
    "    headers = {'Content-type': 'application/json'}\n",
    "    data = json.dumps({\"seriesid\": [component],\"startyear\":\"2004\", \"endyear\":\"2007\"})\n",
    "    p = requests.post('https://api.bls.gov/publicAPI/v2/timeseries/data/', data=data, headers=headers)\n",
    "    json_data = json.loads(p.text)\n",
    "    \n",
    "    series = json_data['Results']['series'][0]\n",
    "    series_id = series['seriesID'][6:-10]\n",
    "    #series_id = series['seriesID'][5:-10]\n",
    "\n",
    "    for item in series['data']:\n",
    "        year = item['year']\n",
    "        month = item['period'][1:]\n",
    "        value = item['value']\n",
    "        df1 = pd.DataFrame(data = [[series_id, year, month, value]], columns = [\"county\", \"year\", \"month\", \"value\"])\n",
    "        master_df = master_df.append(df1)\n",
    "    "
   ]
  }
 ],
 "metadata": {
  "kernelspec": {
   "display_name": "Python 3",
   "language": "python",
   "name": "python3"
  },
  "language_info": {
   "codemirror_mode": {
    "name": "ipython",
    "version": 3
   },
   "file_extension": ".py",
   "mimetype": "text/x-python",
   "name": "python",
   "nbconvert_exporter": "python",
   "pygments_lexer": "ipython3",
   "version": "3.7.3"
  }
 },
 "nbformat": 4,
 "nbformat_minor": 2
}
